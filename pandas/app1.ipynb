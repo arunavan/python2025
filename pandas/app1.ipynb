{
 "cells": [
  {
   "cell_type": "markdown",
   "id": "865c2135-52e1-4c37-b330-6deb1e26a0d1",
   "metadata": {},
   "source": [
    "This is my first pandas program"
   ]
  },
  {
   "cell_type": "code",
   "execution_count": 11,
   "id": "3cd5875d-0396-4228-8892-7724763a14bd",
   "metadata": {},
   "outputs": [
    {
     "name": "stdout",
     "output_type": "stream",
     "text": [
      "   col1  col2  col3\n",
      "0  10.0   4.0     7\n",
      "1  20.0   NaN     8\n",
      "2  30.0   6.0    12\n",
      "3   NaN   9.0     1\n",
      "4  70.0   5.0    11\n",
      "Number of columns:\n",
      "3\n",
      "   col1  col2  col3\n",
      "0  10.0   4.0     7\n",
      "2  30.0   6.0    12\n",
      "4  70.0   5.0    11\n",
      "   col1  col2  col3\n",
      "0  10.0   4.0     7\n",
      "1  20.0  99.0     8\n",
      "2  30.0   6.0    12\n",
      "3  99.0   9.0     1\n",
      "4  70.0   5.0    11\n"
     ]
    }
   ],
   "source": [
    "import pandas as pd\n",
    "d = {'col1': [10, 20, 30, None, 70], 'col2': [4, None, 6, 9, 5], 'col3': [7, 8, 12, 1, 11]}\n",
    "df = pd.DataFrame(data=d)\n",
    "print(df)\n",
    "count_column = df.shape[1]\n",
    "print(\"Number of columns:\")\n",
    "print(count_column)\n",
    "\n",
    "new_df = df.dropna()\n",
    "print(new_df)\n",
    "\n",
    "new_df1=df.fillna(99)\n",
    "print(new_df1)"
   ]
  },
  {
   "cell_type": "markdown",
   "id": "610d3029-51d8-42a7-aaad-aa4f42c4cee0",
   "metadata": {},
   "source": [
    "this is my first pandas app"
   ]
  },
  {
   "cell_type": "code",
   "execution_count": null,
   "id": "38a44474-6914-4747-850e-56dd81a6c149",
   "metadata": {},
   "outputs": [],
   "source": []
  }
 ],
 "metadata": {
  "kernelspec": {
   "display_name": "Python 3 (ipykernel)",
   "language": "python",
   "name": "python3"
  },
  "language_info": {
   "codemirror_mode": {
    "name": "ipython",
    "version": 3
   },
   "file_extension": ".py",
   "mimetype": "text/x-python",
   "name": "python",
   "nbconvert_exporter": "python",
   "pygments_lexer": "ipython3",
   "version": "3.12.5"
  }
 },
 "nbformat": 4,
 "nbformat_minor": 5
}
